{
 "cells": [
  {
   "cell_type": "code",
   "execution_count": 17,
   "metadata": {},
   "outputs": [],
   "source": [
    "import pandas as pd \n",
    "\n",
    "df = pd.read_csv('df_model.csv',index_col=0 )"
   ]
  },
  {
   "cell_type": "code",
   "execution_count": 18,
   "metadata": {},
   "outputs": [],
   "source": [
    "from sklearn.model_selection import train_test_split\n",
    "\n",
    "X = df.drop(['box_office_first_week','genre','Lille', 'Bordeaux', 'Lyon', 'Paris'],axis=1)\n",
    "y = df['box_office_first_week']\n",
    "X_train,X_test, y_train,y_test = train_test_split(X,y, train_size=0.9,shuffle=True, random_state=42)"
   ]
  },
  {
   "cell_type": "code",
   "execution_count": 19,
   "metadata": {},
   "outputs": [
    {
     "data": {
      "text/plain": [
       "Index(['duration', 'nationality', 'press_eval', 'viewers_eval', 'views',\n",
       "       'budget', 'Temperature Moyenne', 'season', 'is_holiday',\n",
       "       'proportion_stars_actors', 'proportion_stars_producers',\n",
       "       'proportion_stars_director', 'distributor_avg_frequency',\n",
       "       'genre_action', 'genre_animation', 'genre_arts martiaux',\n",
       "       'genre_aventure', 'genre_biopic', 'genre_bollywood', 'genre_comédie',\n",
       "       'genre_comédie dramatique', 'genre_comédie musicale', 'genre_divers',\n",
       "       'genre_drame', 'genre_epouvante-horreur', 'genre_erotique',\n",
       "       'genre_espionnage', 'genre_expérimental', 'genre_famille',\n",
       "       'genre_fantastique', 'genre_guerre', 'genre_historique',\n",
       "       'genre_judiciaire', 'genre_musical', 'genre_policier', 'genre_péplum',\n",
       "       'genre_romance', 'genre_science fiction', 'genre_sport event',\n",
       "       'genre_thriller', 'genre_western'],\n",
       "      dtype='object')"
      ]
     },
     "execution_count": 19,
     "metadata": {},
     "output_type": "execute_result"
    }
   ],
   "source": [
    "X.columns"
   ]
  },
  {
   "cell_type": "code",
   "execution_count": 20,
   "metadata": {},
   "outputs": [
    {
     "data": {
      "application/vnd.jupyter.widget-view+json": {
       "model_id": "25336289ce714f68a2d180bee0b58b87",
       "version_major": 2,
       "version_minor": 0
      },
      "text/plain": [
       "Optimization Progress:   0%|          | 0/120 [00:00<?, ?pipeline/s]"
      ]
     },
     "metadata": {},
     "output_type": "display_data"
    },
    {
     "name": "stdout",
     "output_type": "stream",
     "text": [
      "\n",
      "Best pipeline: RandomForestRegressor(ElasticNetCV(input_matrix, l1_ratio=0.75, tol=0.01), bootstrap=True, max_features=0.4, min_samples_leaf=16, min_samples_split=14, n_estimators=100)\n",
      "Pipeline(steps=[('stackingestimator',\n",
      "                 StackingEstimator(estimator=ElasticNetCV(l1_ratio=0.75,\n",
      "                                                          random_state=42,\n",
      "                                                          tol=0.01))),\n",
      "                ('randomforestregressor',\n",
      "                 RandomForestRegressor(max_features=0.4, min_samples_leaf=16,\n",
      "                                       min_samples_split=14,\n",
      "                                       random_state=42))])\n",
      "R2 score: -55417965808.36444\n"
     ]
    },
    {
     "name": "stderr",
     "output_type": "stream",
     "text": [
      "/home/apprenant/.local/lib/python3.10/site-packages/sklearn/base.py:439: UserWarning: X does not have valid feature names, but ElasticNetCV was fitted with feature names\n",
      "  warnings.warn(\n"
     ]
    }
   ],
   "source": [
    "import pandas as pd\n",
    "from tpot import TPOTRegressor\n",
    "from sklearn.model_selection import train_test_split\n",
    "from sklearn.preprocessing import OneHotEncoder\n",
    "\n",
    "# Load your dataset (replace 'data.csv' with your actual dataset)\n",
    "data = pd.read_csv('df_model_sans_meteo.csv')\n",
    "\n",
    "# Identify categorical features\n",
    "categorical_features = ['nationality', 'season', 'is_holiday']\n",
    "\n",
    "# One-hot encode categorical features\n",
    "encoder = OneHotEncoder()\n",
    "encoded_categorical = encoder.fit_transform(data[categorical_features]).toarray()\n",
    "encoded_df = pd.DataFrame(encoded_categorical, columns=encoder.get_feature_names_out(categorical_features))\n",
    "\n",
    "# Combine encoded categorical features with numerical features\n",
    "numerical_features = ['duration', 'press_eval', 'views', 'budget','proportion_stars_actors', 'proportion_stars_producers', 'proportion_stars_director', 'distributor_avg_frequency']\n",
    "X = pd.concat([data[numerical_features], encoded_df], axis=1)\n",
    "\n",
    "# Separate the target variable\n",
    "y = data['box_office_first_week']\n",
    "\n",
    "# Split the data into training and testing sets\n",
    "X_train, X_test, y_train, y_test = train_test_split(X, y, test_size=0.2, random_state=42)\n",
    "\n",
    "# Create a TPOTRegressor instance\n",
    "tpot = TPOTRegressor(generations=5, population_size=20, verbosity=2, random_state=42)\n",
    "\n",
    "# Fit TPOT on the training data\n",
    "tpot.fit(X_train, y_train)\n",
    "\n",
    "# Print the best pipeline found by TPOT\n",
    "print(tpot.fitted_pipeline_)\n",
    "\n",
    "# Evaluate TPOT on the test data\n",
    "print(\"R2 score:\", tpot.score(X_test, y_test))\n",
    "\n",
    "\n"
   ]
  }
 ],
 "metadata": {
  "kernelspec": {
   "display_name": "machine-learning",
   "language": "python",
   "name": "python3"
  },
  "language_info": {
   "codemirror_mode": {
    "name": "ipython",
    "version": 3
   },
   "file_extension": ".py",
   "mimetype": "text/x-python",
   "name": "python",
   "nbconvert_exporter": "python",
   "pygments_lexer": "ipython3",
   "version": "3.10.9"
  },
  "orig_nbformat": 4
 },
 "nbformat": 4,
 "nbformat_minor": 2
}
