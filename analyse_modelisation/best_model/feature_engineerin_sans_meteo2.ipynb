{
 "cells": [
  {
   "cell_type": "code",
   "execution_count": 15,
   "metadata": {},
   "outputs": [],
   "source": [
    "import pandas as pd \n",
    "\n",
    "df_cleaned = pd.read_csv('df_cleaned_sans_meteo.csv')"
   ]
  },
  {
   "cell_type": "code",
   "execution_count": 16,
   "metadata": {},
   "outputs": [
    {
     "name": "stdout",
     "output_type": "stream",
     "text": [
      "<class 'pandas.core.frame.DataFrame'>\n",
      "RangeIndex: 7326 entries, 0 to 7325\n",
      "Data columns (total 15 columns):\n",
      " #   Column                 Non-Null Count  Dtype  \n",
      "---  ------                 --------------  -----  \n",
      " 0   title                  7326 non-null   object \n",
      " 1   release_date           7326 non-null   object \n",
      " 2   genre                  7326 non-null   object \n",
      " 3   duration               7326 non-null   int64  \n",
      " 4   director               7326 non-null   object \n",
      " 5   producers              7326 non-null   object \n",
      " 6   cast                   7326 non-null   object \n",
      " 7   nationality            7326 non-null   object \n",
      " 8   distributor            7326 non-null   object \n",
      " 9   box_office_first_week  7326 non-null   object \n",
      " 10  press_eval             7326 non-null   object \n",
      " 11  viewers_eval           7326 non-null   object \n",
      " 12  views                  7326 non-null   int64  \n",
      " 13  budget                 7326 non-null   float64\n",
      " 14  season                 7326 non-null   object \n",
      "dtypes: float64(1), int64(2), object(12)\n",
      "memory usage: 858.6+ KB\n"
     ]
    }
   ],
   "source": [
    "df_cleaned.info()"
   ]
  },
  {
   "cell_type": "code",
   "execution_count": 17,
   "metadata": {},
   "outputs": [],
   "source": [
    "from vacances_scolaires_france import SchoolHolidayDates\n",
    "import datetime\n",
    "df_cleaned['release_date'] = pd.to_datetime(df_cleaned['release_date'])\n",
    "df_cleaned = df_cleaned[df_cleaned['release_date'].dt.year >= 2010]\n",
    "# Instancier la classe SchoolHolidayDates\n",
    "school_holidays = SchoolHolidayDates()\n",
    "\n",
    "# Fonction pour vérifier si une date est un jour de vacances scolaires\n",
    "def check_holiday(date):\n",
    "    date = date.date()\n",
    "    return school_holidays.is_holiday(date)\n",
    "\n",
    "df_cleaned['release_date'] = pd.to_datetime(df_cleaned['release_date'])\n",
    "# Appliquer la fonction à la colonne \"release_date\" du DataFrame\n",
    "df_cleaned['is_holiday'] = df_cleaned['release_date'].apply(check_holiday)\n"
   ]
  },
  {
   "cell_type": "code",
   "execution_count": 18,
   "metadata": {},
   "outputs": [],
   "source": [
    "df_stars = pd.read_csv('/home/apprenant/DevIA/Popularity_corner/popularity_corner/stars/stars.csv')"
   ]
  },
  {
   "cell_type": "code",
   "execution_count": 19,
   "metadata": {},
   "outputs": [],
   "source": [
    "df_cleaned['cast'] = df_cleaned['cast'].apply(lambda x: [actor.strip() for actor in x.split(',')])\n",
    "df_cleaned['producers'] = df_cleaned['producers'].apply(lambda x: [actor.strip() for actor in x.split(',')])\n",
    "df_cleaned['director'] = df_cleaned['director'].apply(lambda x: [actor.strip() for actor in x.split(',')])\n",
    "df_cleaned['distributor'] = df_cleaned['distributor'].apply(lambda x: [actor.strip() for actor in x.split(',')])"
   ]
  },
  {
   "cell_type": "code",
   "execution_count": 20,
   "metadata": {},
   "outputs": [],
   "source": [
    "stars = df_stars['name'].to_list()"
   ]
  },
  {
   "cell_type": "code",
   "execution_count": 21,
   "metadata": {},
   "outputs": [],
   "source": [
    "def count_stars(cast):\n",
    "    count = 0\n",
    "    for actor in cast:\n",
    "        if actor in stars:\n",
    "            count += 1\n",
    "    return count "
   ]
  },
  {
   "cell_type": "code",
   "execution_count": 22,
   "metadata": {},
   "outputs": [],
   "source": [
    "df_cleaned['stars_actors'] = df_cleaned['cast'].apply(count_stars)\n",
    "df_cleaned['proportion_stars_producers'] = df_cleaned['producers'].apply(count_stars)\n",
    "df_cleaned['proportion_stars_director'] = df_cleaned['director'].apply(count_stars)\n",
    "df_cleaned['stars_producers_director'] = df_cleaned['proportion_stars_producers'] + df_cleaned['proportion_stars_director']"
   ]
  },
  {
   "cell_type": "code",
   "execution_count": 23,
   "metadata": {},
   "outputs": [],
   "source": [
    "import pandas as pd\n",
    "from collections import Counter\n",
    "\n",
    "# Supposons que votre DataFrame s'appelle df_cleaned et la colonne des distributeurs est 'distributor'\n",
    "\n",
    "# Étape 1 : Utiliser explode pour diviser les distributeurs en des distributeurs individuels\n",
    "df_exploded = df_cleaned.explode('distributor')\n",
    "\n",
    "# Étape 2 : Utiliser value_counts pour compter le nombre d'occurrences de chaque distributeur\n",
    "distributor_counts = df_exploded['distributor'].value_counts()\n",
    "\n",
    "# Étape 3 : Calculer la fréquence des distributeurs \n",
    "distributor_frequency = distributor_counts\n",
    "\n",
    "# Étape 4 : Créer un dictionnaire pour mapper la fréquence à chaque distributeur\n",
    "distributor_freq_dict = distributor_frequency.to_dict()\n",
    "\n",
    "# Étape 5 : Mapper la fréquence à chaque ligne du DataFrame et calculer la moyenne s'il y a plusieurs distributeurs\n",
    "def calculate_avg_frequency(distributors):\n",
    "    if isinstance(distributors, list):\n",
    "        return sum([distributor_freq_dict[d] for d in distributors]) / len(distributors)\n",
    "    else:\n",
    "        return distributor_freq_dict[distributors]\n",
    "\n",
    "df_cleaned['distributor_avg_frequency'] = df_cleaned['distributor'].apply(calculate_avg_frequency)"
   ]
  },
  {
   "cell_type": "code",
   "execution_count": 24,
   "metadata": {},
   "outputs": [],
   "source": [
    "# Convertir toutes les valeurs de la colonne \"genre\" en minuscules et supprimer les espaces en début et en fin\n",
    "df_cleaned['genre'] = df_cleaned['genre'].str.lower().str.strip()\n",
    "\n",
    "# Supprimer les espaces entre les genres\n",
    "df_cleaned['genre'] = df_cleaned['genre'].str.replace(', ', ',')\n",
    "\n",
    "# Encodage du genre\n",
    "genre_encoding = df_cleaned['genre'].str.get_dummies(sep=',')\n",
    "genre_encoding.columns = ['genre_' + col for col in genre_encoding.columns]\n",
    "\n",
    "# Concaténation des DataFrames d'encodage avec le DataFrame principal\n",
    "df_cleaned = pd.concat([df_cleaned, genre_encoding], axis=1)"
   ]
  },
  {
   "cell_type": "code",
   "execution_count": 25,
   "metadata": {},
   "outputs": [
    {
     "data": {
      "text/plain": [
       "Index(['title', 'release_date', 'genre', 'duration', 'director', 'producers',\n",
       "       'cast', 'nationality', 'distributor', 'box_office_first_week',\n",
       "       'press_eval', 'viewers_eval', 'views', 'budget', 'season', 'is_holiday',\n",
       "       'stars_actors', 'proportion_stars_producers',\n",
       "       'proportion_stars_director', 'stars_producers_director',\n",
       "       'distributor_avg_frequency', 'genre_action', 'genre_animation',\n",
       "       'genre_arts martiaux', 'genre_aventure', 'genre_biopic',\n",
       "       'genre_bollywood', 'genre_comédie', 'genre_comédie dramatique',\n",
       "       'genre_comédie musicale', 'genre_divers', 'genre_drame',\n",
       "       'genre_epouvante-horreur', 'genre_erotique', 'genre_espionnage',\n",
       "       'genre_expérimental', 'genre_famille', 'genre_fantastique',\n",
       "       'genre_guerre', 'genre_historique', 'genre_judiciaire', 'genre_musical',\n",
       "       'genre_policier', 'genre_péplum', 'genre_romance',\n",
       "       'genre_science fiction', 'genre_sport event', 'genre_thriller',\n",
       "       'genre_western'],\n",
       "      dtype='object')"
      ]
     },
     "execution_count": 25,
     "metadata": {},
     "output_type": "execute_result"
    }
   ],
   "source": [
    "df_cleaned.columns"
   ]
  },
  {
   "cell_type": "code",
   "execution_count": 26,
   "metadata": {},
   "outputs": [
    {
     "name": "stdout",
     "output_type": "stream",
     "text": [
      "<class 'pandas.core.frame.DataFrame'>\n",
      "Int64Index: 5493 entries, 0 to 7325\n",
      "Data columns (total 49 columns):\n",
      " #   Column                      Non-Null Count  Dtype         \n",
      "---  ------                      --------------  -----         \n",
      " 0   title                       5493 non-null   object        \n",
      " 1   release_date                5493 non-null   datetime64[ns]\n",
      " 2   genre                       5493 non-null   object        \n",
      " 3   duration                    5493 non-null   int64         \n",
      " 4   director                    5493 non-null   object        \n",
      " 5   producers                   5493 non-null   object        \n",
      " 6   cast                        5493 non-null   object        \n",
      " 7   nationality                 5493 non-null   object        \n",
      " 8   distributor                 5493 non-null   object        \n",
      " 9   box_office_first_week       5493 non-null   object        \n",
      " 10  press_eval                  5493 non-null   object        \n",
      " 11  viewers_eval                5493 non-null   object        \n",
      " 12  views                       5493 non-null   int64         \n",
      " 13  budget                      5493 non-null   float64       \n",
      " 14  season                      5493 non-null   object        \n",
      " 15  is_holiday                  5493 non-null   bool          \n",
      " 16  stars_actors                5493 non-null   int64         \n",
      " 17  proportion_stars_producers  5493 non-null   int64         \n",
      " 18  proportion_stars_director   5493 non-null   int64         \n",
      " 19  stars_producers_director    5493 non-null   int64         \n",
      " 20  distributor_avg_frequency   5493 non-null   float64       \n",
      " 21  genre_action                5493 non-null   int64         \n",
      " 22  genre_animation             5493 non-null   int64         \n",
      " 23  genre_arts martiaux         5493 non-null   int64         \n",
      " 24  genre_aventure              5493 non-null   int64         \n",
      " 25  genre_biopic                5493 non-null   int64         \n",
      " 26  genre_bollywood             5493 non-null   int64         \n",
      " 27  genre_comédie               5493 non-null   int64         \n",
      " 28  genre_comédie dramatique    5493 non-null   int64         \n",
      " 29  genre_comédie musicale      5493 non-null   int64         \n",
      " 30  genre_divers                5493 non-null   int64         \n",
      " 31  genre_drame                 5493 non-null   int64         \n",
      " 32  genre_epouvante-horreur     5493 non-null   int64         \n",
      " 33  genre_erotique              5493 non-null   int64         \n",
      " 34  genre_espionnage            5493 non-null   int64         \n",
      " 35  genre_expérimental          5493 non-null   int64         \n",
      " 36  genre_famille               5493 non-null   int64         \n",
      " 37  genre_fantastique           5493 non-null   int64         \n",
      " 38  genre_guerre                5493 non-null   int64         \n",
      " 39  genre_historique            5493 non-null   int64         \n",
      " 40  genre_judiciaire            5493 non-null   int64         \n",
      " 41  genre_musical               5493 non-null   int64         \n",
      " 42  genre_policier              5493 non-null   int64         \n",
      " 43  genre_péplum                5493 non-null   int64         \n",
      " 44  genre_romance               5493 non-null   int64         \n",
      " 45  genre_science fiction       5493 non-null   int64         \n",
      " 46  genre_sport event           5493 non-null   int64         \n",
      " 47  genre_thriller              5493 non-null   int64         \n",
      " 48  genre_western               5493 non-null   int64         \n",
      "dtypes: bool(1), datetime64[ns](1), float64(2), int64(34), object(11)\n",
      "memory usage: 2.1+ MB\n"
     ]
    }
   ],
   "source": [
    "df_cleaned.info()"
   ]
  },
  {
   "cell_type": "code",
   "execution_count": 27,
   "metadata": {},
   "outputs": [],
   "source": [
    "df_model = df_cleaned[['duration','nationality','box_office_first_week','views','budget','season','stars_actors','stars_producers_director','distributor_avg_frequency','genre_action', 'genre_animation', 'genre_arts martiaux',\n",
    "       'genre_aventure', 'genre_biopic', 'genre_bollywood', 'genre_comédie',\n",
    "       'genre_comédie dramatique', 'genre_comédie musicale', 'genre_divers',\n",
    "       'genre_drame', 'genre_epouvante-horreur', 'genre_erotique',\n",
    "       'genre_espionnage', 'genre_expérimental', 'genre_famille',\n",
    "       'genre_fantastique', 'genre_guerre', 'genre_historique',\n",
    "       'genre_judiciaire', 'genre_musical', 'genre_policier', 'genre_péplum',\n",
    "       'genre_romance', 'genre_science fiction', 'genre_sport event',\n",
    "       'genre_thriller', 'genre_western']]"
   ]
  },
  {
   "cell_type": "code",
   "execution_count": 28,
   "metadata": {},
   "outputs": [],
   "source": [
    "df_model.to_csv('df_model_sans_meteo.csv')"
   ]
  }
 ],
 "metadata": {
  "kernelspec": {
   "display_name": "scrap-env",
   "language": "python",
   "name": "python3"
  },
  "language_info": {
   "codemirror_mode": {
    "name": "ipython",
    "version": 3
   },
   "file_extension": ".py",
   "mimetype": "text/x-python",
   "name": "python",
   "nbconvert_exporter": "python",
   "pygments_lexer": "ipython3",
   "version": "3.10.9"
  },
  "orig_nbformat": 4
 },
 "nbformat": 4,
 "nbformat_minor": 2
}
