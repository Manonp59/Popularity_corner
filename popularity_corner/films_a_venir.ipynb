{
 "cells": [
  {
   "cell_type": "code",
   "execution_count": 1,
   "metadata": {},
   "outputs": [],
   "source": [
    "import pandas as pd\n",
    "import requests\n",
    "\n",
    "df_a_venir = pd.read_csv('test.csv')"
   ]
  },
  {
   "cell_type": "code",
   "execution_count": 2,
   "metadata": {},
   "outputs": [],
   "source": [
    "import requests\n",
    "\n",
    "def get_id(name, api_key):\n",
    "    base_url = 'https://api.themoviedb.org/3/search/movie'\n",
    "    url = f'{base_url}?api_key={api_key}&query={name}'\n",
    "    response = requests.get(url)\n",
    "    if response.status_code == 200:\n",
    "        search_results = response.json()\n",
    "        if search_results['total_results'] > 0:\n",
    "            # Prendre le premier résultat de la liste (vous pouvez afficher tous les résultats si nécessaire)\n",
    "            first_result = search_results['results'][0]\n",
    "            movie_id = first_result['id']\n",
    "            return movie_id\n",
    "        else:\n",
    "            return f\"Aucun résultat trouvé pour '{name}'.\"\n",
    "    else:\n",
    "        return \"Erreur lors de la requête API 1 .\"\n",
    "\n",
    "def get_budget(movie_id, api_key):\n",
    "    base_url = 'https://api.themoviedb.org/3/movie/'\n",
    "    url = f'{base_url}{movie_id}?api_key={api_key}'\n",
    "\n",
    "    # Effectuer la requête\n",
    "    response = requests.get(url)\n",
    "\n",
    "    # Analyser la réponse JSON\n",
    "    if response.status_code == 200:\n",
    "        movie_data = response.json()\n",
    "        budget = movie_data.get('budget')\n",
    "        return budget\n",
    "    else:\n",
    "        return \"Erreur lors de la requête API 2.\"\n",
    "\n",
    "        \n",
    "    "
   ]
  },
  {
   "cell_type": "code",
   "execution_count": 14,
   "metadata": {},
   "outputs": [],
   "source": [
    "api_key = '7de52660cd21bc098732e69e0d02651c'\n",
    "\n",
    "for index, row in df_a_venir.iterrows():\n",
    "    title = row['title']\n",
    "    budget = get_budget(get_id(title, api_key), api_key)\n",
    "    df_a_venir.at[index, 'budget'] = budget"
   ]
  }
 ],
 "metadata": {
  "kernelspec": {
   "display_name": "popularity-corner-scrapy3",
   "language": "python",
   "name": "python3"
  },
  "language_info": {
   "codemirror_mode": {
    "name": "ipython",
    "version": 3
   },
   "file_extension": ".py",
   "mimetype": "text/x-python",
   "name": "python",
   "nbconvert_exporter": "python",
   "pygments_lexer": "ipython3",
   "version": "3.11.2"
  },
  "orig_nbformat": 4
 },
 "nbformat": 4,
 "nbformat_minor": 2
}
