{
 "cells": [
  {
   "cell_type": "code",
   "execution_count": 35,
   "metadata": {},
   "outputs": [],
   "source": [
    "import pandas as pd \n",
    "\n",
    "df = pd.read_csv('df_model.csv',index_col=0 )"
   ]
  },
  {
   "cell_type": "code",
   "execution_count": 36,
   "metadata": {},
   "outputs": [],
   "source": [
    "from sklearn.model_selection import train_test_split\n",
    "\n",
    "X = df.drop(['box_office_first_week','genre'],axis=1)\n",
    "y = df['box_office_first_week']\n",
    "X_train,X_test, y_train,y_test = train_test_split(X,y, train_size=0.9,shuffle=True, random_state=42)"
   ]
  },
  {
   "cell_type": "code",
   "execution_count": 37,
   "metadata": {},
   "outputs": [
    {
     "data": {
      "text/plain": [
       "Index(['duration', 'nationality', 'press_eval', 'viewers_eval', 'views',\n",
       "       'budget', 'Temperature Moyenne', 'Lille', 'Bordeaux', 'Lyon', 'Paris',\n",
       "       'season', 'is_holiday', 'proportion_stars_actors',\n",
       "       'proportion_stars_producers', 'proportion_stars_director',\n",
       "       'distributor_avg_frequency', 'genre_action', 'genre_animation',\n",
       "       'genre_arts martiaux', 'genre_aventure', 'genre_biopic',\n",
       "       'genre_bollywood', 'genre_comédie', 'genre_comédie dramatique',\n",
       "       'genre_comédie musicale', 'genre_divers', 'genre_drame',\n",
       "       'genre_epouvante-horreur', 'genre_erotique', 'genre_espionnage',\n",
       "       'genre_expérimental', 'genre_famille', 'genre_fantastique',\n",
       "       'genre_guerre', 'genre_historique', 'genre_judiciaire', 'genre_musical',\n",
       "       'genre_policier', 'genre_péplum', 'genre_romance',\n",
       "       'genre_science fiction', 'genre_sport event', 'genre_thriller',\n",
       "       'genre_western'],\n",
       "      dtype='object')"
      ]
     },
     "execution_count": 37,
     "metadata": {},
     "output_type": "execute_result"
    }
   ],
   "source": [
    "X.columns"
   ]
  },
  {
   "cell_type": "code",
   "execution_count": 40,
   "metadata": {},
   "outputs": [
    {
     "data": {
      "text/html": [
       "<style>#sk-container-id-5 {color: black;background-color: white;}#sk-container-id-5 pre{padding: 0;}#sk-container-id-5 div.sk-toggleable {background-color: white;}#sk-container-id-5 label.sk-toggleable__label {cursor: pointer;display: block;width: 100%;margin-bottom: 0;padding: 0.3em;box-sizing: border-box;text-align: center;}#sk-container-id-5 label.sk-toggleable__label-arrow:before {content: \"▸\";float: left;margin-right: 0.25em;color: #696969;}#sk-container-id-5 label.sk-toggleable__label-arrow:hover:before {color: black;}#sk-container-id-5 div.sk-estimator:hover label.sk-toggleable__label-arrow:before {color: black;}#sk-container-id-5 div.sk-toggleable__content {max-height: 0;max-width: 0;overflow: hidden;text-align: left;background-color: #f0f8ff;}#sk-container-id-5 div.sk-toggleable__content pre {margin: 0.2em;color: black;border-radius: 0.25em;background-color: #f0f8ff;}#sk-container-id-5 input.sk-toggleable__control:checked~div.sk-toggleable__content {max-height: 200px;max-width: 100%;overflow: auto;}#sk-container-id-5 input.sk-toggleable__control:checked~label.sk-toggleable__label-arrow:before {content: \"▾\";}#sk-container-id-5 div.sk-estimator input.sk-toggleable__control:checked~label.sk-toggleable__label {background-color: #d4ebff;}#sk-container-id-5 div.sk-label input.sk-toggleable__control:checked~label.sk-toggleable__label {background-color: #d4ebff;}#sk-container-id-5 input.sk-hidden--visually {border: 0;clip: rect(1px 1px 1px 1px);clip: rect(1px, 1px, 1px, 1px);height: 1px;margin: -1px;overflow: hidden;padding: 0;position: absolute;width: 1px;}#sk-container-id-5 div.sk-estimator {font-family: monospace;background-color: #f0f8ff;border: 1px dotted black;border-radius: 0.25em;box-sizing: border-box;margin-bottom: 0.5em;}#sk-container-id-5 div.sk-estimator:hover {background-color: #d4ebff;}#sk-container-id-5 div.sk-parallel-item::after {content: \"\";width: 100%;border-bottom: 1px solid gray;flex-grow: 1;}#sk-container-id-5 div.sk-label:hover label.sk-toggleable__label {background-color: #d4ebff;}#sk-container-id-5 div.sk-serial::before {content: \"\";position: absolute;border-left: 1px solid gray;box-sizing: border-box;top: 0;bottom: 0;left: 50%;z-index: 0;}#sk-container-id-5 div.sk-serial {display: flex;flex-direction: column;align-items: center;background-color: white;padding-right: 0.2em;padding-left: 0.2em;position: relative;}#sk-container-id-5 div.sk-item {position: relative;z-index: 1;}#sk-container-id-5 div.sk-parallel {display: flex;align-items: stretch;justify-content: center;background-color: white;position: relative;}#sk-container-id-5 div.sk-item::before, #sk-container-id-5 div.sk-parallel-item::before {content: \"\";position: absolute;border-left: 1px solid gray;box-sizing: border-box;top: 0;bottom: 0;left: 50%;z-index: -1;}#sk-container-id-5 div.sk-parallel-item {display: flex;flex-direction: column;z-index: 1;position: relative;background-color: white;}#sk-container-id-5 div.sk-parallel-item:first-child::after {align-self: flex-end;width: 50%;}#sk-container-id-5 div.sk-parallel-item:last-child::after {align-self: flex-start;width: 50%;}#sk-container-id-5 div.sk-parallel-item:only-child::after {width: 0;}#sk-container-id-5 div.sk-dashed-wrapped {border: 1px dashed gray;margin: 0 0.4em 0.5em 0.4em;box-sizing: border-box;padding-bottom: 0.4em;background-color: white;}#sk-container-id-5 div.sk-label label {font-family: monospace;font-weight: bold;display: inline-block;line-height: 1.2em;}#sk-container-id-5 div.sk-label-container {text-align: center;}#sk-container-id-5 div.sk-container {/* jupyter's `normalize.less` sets `[hidden] { display: none; }` but bootstrap.min.css set `[hidden] { display: none !important; }` so we also need the `!important` here to be able to override the default hidden behavior on the sphinx rendered scikit-learn.org. See: https://github.com/scikit-learn/scikit-learn/issues/21755 */display: inline-block !important;position: relative;}#sk-container-id-5 div.sk-text-repr-fallback {display: none;}</style><div id=\"sk-container-id-5\" class=\"sk-top-container\"><div class=\"sk-text-repr-fallback\"><pre>Pipeline(steps=[(&#x27;preprocessor&#x27;,\n",
       "                 ColumnTransformer(remainder=&#x27;passthrough&#x27;,\n",
       "                                   transformers=[(&#x27;num&#x27;, StandardScaler(),\n",
       "                                                  [&#x27;duration&#x27;, &#x27;press_eval&#x27;,\n",
       "                                                   &#x27;viewers_eval&#x27;, &#x27;views&#x27;,\n",
       "                                                   &#x27;budget&#x27;,\n",
       "                                                   &#x27;Temperature Moyenne&#x27;,\n",
       "                                                   &#x27;Lille&#x27;, &#x27;Bordeaux&#x27;, &#x27;Lyon&#x27;,\n",
       "                                                   &#x27;Paris&#x27;,\n",
       "                                                   &#x27;proportion_stars_actors&#x27;,\n",
       "                                                   &#x27;proportion_stars_producers&#x27;,\n",
       "                                                   &#x27;proportion_stars_director&#x27;,\n",
       "                                                   &#x27;distributor_avg_frequency&#x27;]),\n",
       "                                                 (&#x27;cat&#x27;, OneHotEncoder(),\n",
       "                                                  [&#x27;nationality&#x27;, &#x27;season&#x27;,\n",
       "                                                   &#x27;is_holiday&#x27;])])),\n",
       "                (&#x27;model&#x27;, ExtraTreesRegressor(random_state=42))])</pre><b>In a Jupyter environment, please rerun this cell to show the HTML representation or trust the notebook. <br />On GitHub, the HTML representation is unable to render, please try loading this page with nbviewer.org.</b></div><div class=\"sk-container\" hidden><div class=\"sk-item sk-dashed-wrapped\"><div class=\"sk-label-container\"><div class=\"sk-label sk-toggleable\"><input class=\"sk-toggleable__control sk-hidden--visually\" id=\"sk-estimator-id-37\" type=\"checkbox\" ><label for=\"sk-estimator-id-37\" class=\"sk-toggleable__label sk-toggleable__label-arrow\">Pipeline</label><div class=\"sk-toggleable__content\"><pre>Pipeline(steps=[(&#x27;preprocessor&#x27;,\n",
       "                 ColumnTransformer(remainder=&#x27;passthrough&#x27;,\n",
       "                                   transformers=[(&#x27;num&#x27;, StandardScaler(),\n",
       "                                                  [&#x27;duration&#x27;, &#x27;press_eval&#x27;,\n",
       "                                                   &#x27;viewers_eval&#x27;, &#x27;views&#x27;,\n",
       "                                                   &#x27;budget&#x27;,\n",
       "                                                   &#x27;Temperature Moyenne&#x27;,\n",
       "                                                   &#x27;Lille&#x27;, &#x27;Bordeaux&#x27;, &#x27;Lyon&#x27;,\n",
       "                                                   &#x27;Paris&#x27;,\n",
       "                                                   &#x27;proportion_stars_actors&#x27;,\n",
       "                                                   &#x27;proportion_stars_producers&#x27;,\n",
       "                                                   &#x27;proportion_stars_director&#x27;,\n",
       "                                                   &#x27;distributor_avg_frequency&#x27;]),\n",
       "                                                 (&#x27;cat&#x27;, OneHotEncoder(),\n",
       "                                                  [&#x27;nationality&#x27;, &#x27;season&#x27;,\n",
       "                                                   &#x27;is_holiday&#x27;])])),\n",
       "                (&#x27;model&#x27;, ExtraTreesRegressor(random_state=42))])</pre></div></div></div><div class=\"sk-serial\"><div class=\"sk-item sk-dashed-wrapped\"><div class=\"sk-label-container\"><div class=\"sk-label sk-toggleable\"><input class=\"sk-toggleable__control sk-hidden--visually\" id=\"sk-estimator-id-38\" type=\"checkbox\" ><label for=\"sk-estimator-id-38\" class=\"sk-toggleable__label sk-toggleable__label-arrow\">preprocessor: ColumnTransformer</label><div class=\"sk-toggleable__content\"><pre>ColumnTransformer(remainder=&#x27;passthrough&#x27;,\n",
       "                  transformers=[(&#x27;num&#x27;, StandardScaler(),\n",
       "                                 [&#x27;duration&#x27;, &#x27;press_eval&#x27;, &#x27;viewers_eval&#x27;,\n",
       "                                  &#x27;views&#x27;, &#x27;budget&#x27;, &#x27;Temperature Moyenne&#x27;,\n",
       "                                  &#x27;Lille&#x27;, &#x27;Bordeaux&#x27;, &#x27;Lyon&#x27;, &#x27;Paris&#x27;,\n",
       "                                  &#x27;proportion_stars_actors&#x27;,\n",
       "                                  &#x27;proportion_stars_producers&#x27;,\n",
       "                                  &#x27;proportion_stars_director&#x27;,\n",
       "                                  &#x27;distributor_avg_frequency&#x27;]),\n",
       "                                (&#x27;cat&#x27;, OneHotEncoder(),\n",
       "                                 [&#x27;nationality&#x27;, &#x27;season&#x27;, &#x27;is_holiday&#x27;])])</pre></div></div></div><div class=\"sk-parallel\"><div class=\"sk-parallel-item\"><div class=\"sk-item\"><div class=\"sk-label-container\"><div class=\"sk-label sk-toggleable\"><input class=\"sk-toggleable__control sk-hidden--visually\" id=\"sk-estimator-id-39\" type=\"checkbox\" ><label for=\"sk-estimator-id-39\" class=\"sk-toggleable__label sk-toggleable__label-arrow\">num</label><div class=\"sk-toggleable__content\"><pre>[&#x27;duration&#x27;, &#x27;press_eval&#x27;, &#x27;viewers_eval&#x27;, &#x27;views&#x27;, &#x27;budget&#x27;, &#x27;Temperature Moyenne&#x27;, &#x27;Lille&#x27;, &#x27;Bordeaux&#x27;, &#x27;Lyon&#x27;, &#x27;Paris&#x27;, &#x27;proportion_stars_actors&#x27;, &#x27;proportion_stars_producers&#x27;, &#x27;proportion_stars_director&#x27;, &#x27;distributor_avg_frequency&#x27;]</pre></div></div></div><div class=\"sk-serial\"><div class=\"sk-item\"><div class=\"sk-estimator sk-toggleable\"><input class=\"sk-toggleable__control sk-hidden--visually\" id=\"sk-estimator-id-40\" type=\"checkbox\" ><label for=\"sk-estimator-id-40\" class=\"sk-toggleable__label sk-toggleable__label-arrow\">StandardScaler</label><div class=\"sk-toggleable__content\"><pre>StandardScaler()</pre></div></div></div></div></div></div><div class=\"sk-parallel-item\"><div class=\"sk-item\"><div class=\"sk-label-container\"><div class=\"sk-label sk-toggleable\"><input class=\"sk-toggleable__control sk-hidden--visually\" id=\"sk-estimator-id-41\" type=\"checkbox\" ><label for=\"sk-estimator-id-41\" class=\"sk-toggleable__label sk-toggleable__label-arrow\">cat</label><div class=\"sk-toggleable__content\"><pre>[&#x27;nationality&#x27;, &#x27;season&#x27;, &#x27;is_holiday&#x27;]</pre></div></div></div><div class=\"sk-serial\"><div class=\"sk-item\"><div class=\"sk-estimator sk-toggleable\"><input class=\"sk-toggleable__control sk-hidden--visually\" id=\"sk-estimator-id-42\" type=\"checkbox\" ><label for=\"sk-estimator-id-42\" class=\"sk-toggleable__label sk-toggleable__label-arrow\">OneHotEncoder</label><div class=\"sk-toggleable__content\"><pre>OneHotEncoder()</pre></div></div></div></div></div></div><div class=\"sk-parallel-item\"><div class=\"sk-item\"><div class=\"sk-label-container\"><div class=\"sk-label sk-toggleable\"><input class=\"sk-toggleable__control sk-hidden--visually\" id=\"sk-estimator-id-43\" type=\"checkbox\" ><label for=\"sk-estimator-id-43\" class=\"sk-toggleable__label sk-toggleable__label-arrow\">remainder</label><div class=\"sk-toggleable__content\"><pre>[&#x27;genre_action&#x27;, &#x27;genre_animation&#x27;, &#x27;genre_arts martiaux&#x27;, &#x27;genre_aventure&#x27;, &#x27;genre_biopic&#x27;, &#x27;genre_bollywood&#x27;, &#x27;genre_comédie&#x27;, &#x27;genre_comédie dramatique&#x27;, &#x27;genre_comédie musicale&#x27;, &#x27;genre_divers&#x27;, &#x27;genre_drame&#x27;, &#x27;genre_epouvante-horreur&#x27;, &#x27;genre_erotique&#x27;, &#x27;genre_espionnage&#x27;, &#x27;genre_expérimental&#x27;, &#x27;genre_famille&#x27;, &#x27;genre_fantastique&#x27;, &#x27;genre_guerre&#x27;, &#x27;genre_historique&#x27;, &#x27;genre_judiciaire&#x27;, &#x27;genre_musical&#x27;, &#x27;genre_policier&#x27;, &#x27;genre_péplum&#x27;, &#x27;genre_romance&#x27;, &#x27;genre_science fiction&#x27;, &#x27;genre_sport event&#x27;, &#x27;genre_thriller&#x27;, &#x27;genre_western&#x27;]</pre></div></div></div><div class=\"sk-serial\"><div class=\"sk-item\"><div class=\"sk-estimator sk-toggleable\"><input class=\"sk-toggleable__control sk-hidden--visually\" id=\"sk-estimator-id-44\" type=\"checkbox\" ><label for=\"sk-estimator-id-44\" class=\"sk-toggleable__label sk-toggleable__label-arrow\">passthrough</label><div class=\"sk-toggleable__content\"><pre>passthrough</pre></div></div></div></div></div></div></div></div><div class=\"sk-item\"><div class=\"sk-estimator sk-toggleable\"><input class=\"sk-toggleable__control sk-hidden--visually\" id=\"sk-estimator-id-45\" type=\"checkbox\" ><label for=\"sk-estimator-id-45\" class=\"sk-toggleable__label sk-toggleable__label-arrow\">ExtraTreesRegressor</label><div class=\"sk-toggleable__content\"><pre>ExtraTreesRegressor(random_state=42)</pre></div></div></div></div></div></div></div>"
      ],
      "text/plain": [
       "Pipeline(steps=[('preprocessor',\n",
       "                 ColumnTransformer(remainder='passthrough',\n",
       "                                   transformers=[('num', StandardScaler(),\n",
       "                                                  ['duration', 'press_eval',\n",
       "                                                   'viewers_eval', 'views',\n",
       "                                                   'budget',\n",
       "                                                   'Temperature Moyenne',\n",
       "                                                   'Lille', 'Bordeaux', 'Lyon',\n",
       "                                                   'Paris',\n",
       "                                                   'proportion_stars_actors',\n",
       "                                                   'proportion_stars_producers',\n",
       "                                                   'proportion_stars_director',\n",
       "                                                   'distributor_avg_frequency']),\n",
       "                                                 ('cat', OneHotEncoder(),\n",
       "                                                  ['nationality', 'season',\n",
       "                                                   'is_holiday'])])),\n",
       "                ('model', ExtraTreesRegressor(random_state=42))])"
      ]
     },
     "execution_count": 40,
     "metadata": {},
     "output_type": "execute_result"
    }
   ],
   "source": [
    "from sklearn.compose import ColumnTransformer\n",
    "from sklearn.preprocessing import StandardScaler, PolynomialFeatures, RobustScaler, MinMaxScaler, OneHotEncoder\n",
    "from sklearn.ensemble import RandomForestRegressor, ExtraTreesRegressor\n",
    "from sklearn.pipeline import Pipeline\n",
    "\n",
    "numerical_features = ['duration', 'press_eval','viewers_eval','views','budget','Temperature Moyenne', 'Lille', 'Bordeaux', 'Lyon',\n",
    "       'Paris', 'proportion_stars_actors','proportion_stars_producers', 'proportion_stars_director','distributor_avg_frequency']\n",
    "categorical_features = ['nationality','season','is_holiday']\n",
    "\n",
    "numerical_transformer = StandardScaler()\n",
    "categorical_transformer = OneHotEncoder()\n",
    "\n",
    "preprocessor = ColumnTransformer(\n",
    "    transformers=[\n",
    "        ('num',numerical_transformer, numerical_features),\n",
    "        ('cat', categorical_transformer, categorical_features) \n",
    "    ],\n",
    "    remainder=\"passthrough\"\n",
    ")\n",
    "\n",
    "model = ExtraTreesRegressor(random_state=42)\n",
    "\n",
    "pipe = Pipeline([\n",
    "     ('preprocessor', preprocessor),\n",
    "     ('model', model)\n",
    "])\n",
    "\n",
    "pipe.fit(X_train, y_train)\n"
   ]
  },
  {
   "cell_type": "code",
   "execution_count": 41,
   "metadata": {},
   "outputs": [
    {
     "data": {
      "text/plain": [
       "0.7333703657521176"
      ]
     },
     "execution_count": 41,
     "metadata": {},
     "output_type": "execute_result"
    }
   ],
   "source": [
    "pipe.score(X_test,y_test)"
   ]
  }
 ],
 "metadata": {
  "kernelspec": {
   "display_name": "machine-learning",
   "language": "python",
   "name": "python3"
  },
  "language_info": {
   "codemirror_mode": {
    "name": "ipython",
    "version": 3
   },
   "file_extension": ".py",
   "mimetype": "text/x-python",
   "name": "python",
   "nbconvert_exporter": "python",
   "pygments_lexer": "ipython3",
   "version": "3.10.9"
  },
  "orig_nbformat": 4
 },
 "nbformat": 4,
 "nbformat_minor": 2
}
