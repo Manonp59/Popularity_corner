{
 "cells": [
  {
   "cell_type": "code",
   "execution_count": 1,
   "metadata": {},
   "outputs": [],
   "source": [
    "import pandas as pd \n",
    "\n",
    "df_cleaned = pd.read_csv('df_cleaned.csv')"
   ]
  },
  {
   "cell_type": "code",
   "execution_count": 2,
   "metadata": {},
   "outputs": [
    {
     "name": "stdout",
     "output_type": "stream",
     "text": [
      "<class 'pandas.core.frame.DataFrame'>\n",
      "RangeIndex: 5604 entries, 0 to 5603\n",
      "Data columns (total 22 columns):\n",
      " #   Column                 Non-Null Count  Dtype  \n",
      "---  ------                 --------------  -----  \n",
      " 0   Unnamed: 0             5604 non-null   int64  \n",
      " 1   title                  5604 non-null   object \n",
      " 2   release_date           5604 non-null   object \n",
      " 3   genre                  5604 non-null   object \n",
      " 4   duration               5604 non-null   int64  \n",
      " 5   director               5604 non-null   object \n",
      " 6   producers              5604 non-null   object \n",
      " 7   cast                   5604 non-null   object \n",
      " 8   nationality            5604 non-null   object \n",
      " 9   distributor            5604 non-null   object \n",
      " 10  box_office_first_week  5604 non-null   int64  \n",
      " 11  press_eval             5604 non-null   float64\n",
      " 12  viewers_eval           5604 non-null   float64\n",
      " 13  views                  5604 non-null   float64\n",
      " 14  budget                 5604 non-null   float64\n",
      " 15  Temperature Moyenne    5604 non-null   float64\n",
      " 16  Lille                  5604 non-null   float64\n",
      " 17  Bordeaux               5604 non-null   float64\n",
      " 18  Lyon                   5604 non-null   float64\n",
      " 19  Paris                  5604 non-null   float64\n",
      " 20  saison                 3617 non-null   object \n",
      " 21  year                   5604 non-null   int64  \n",
      "dtypes: float64(9), int64(4), object(9)\n",
      "memory usage: 963.3+ KB\n"
     ]
    }
   ],
   "source": [
    "df_cleaned.info()"
   ]
  }
 ],
 "metadata": {
  "kernelspec": {
   "display_name": "machine-learning",
   "language": "python",
   "name": "python3"
  },
  "language_info": {
   "codemirror_mode": {
    "name": "ipython",
    "version": 3
   },
   "file_extension": ".py",
   "mimetype": "text/x-python",
   "name": "python",
   "nbconvert_exporter": "python",
   "pygments_lexer": "ipython3",
   "version": "3.10.9"
  },
  "orig_nbformat": 4
 },
 "nbformat": 4,
 "nbformat_minor": 2
}
