{
 "cells": [
  {
   "cell_type": "code",
   "execution_count": 176,
   "metadata": {},
   "outputs": [],
   "source": [
    "import pandas as pd \n",
    "\n",
    "df_cleaned = pd.read_csv('df_cleaned.csv')"
   ]
  },
  {
   "cell_type": "code",
   "execution_count": 177,
   "metadata": {},
   "outputs": [
    {
     "name": "stdout",
     "output_type": "stream",
     "text": [
      "<class 'pandas.core.frame.DataFrame'>\n",
      "RangeIndex: 5619 entries, 0 to 5618\n",
      "Data columns (total 21 columns):\n",
      " #   Column                 Non-Null Count  Dtype  \n",
      "---  ------                 --------------  -----  \n",
      " 0   title                  5619 non-null   object \n",
      " 1   release_date           5619 non-null   object \n",
      " 2   genre                  5619 non-null   object \n",
      " 3   duration               5619 non-null   int64  \n",
      " 4   director               5619 non-null   object \n",
      " 5   producers              5619 non-null   object \n",
      " 6   cast                   5619 non-null   object \n",
      " 7   nationality            5619 non-null   object \n",
      " 8   distributor            5619 non-null   object \n",
      " 9   box_office_first_week  5619 non-null   int64  \n",
      " 10  press_eval             5619 non-null   float64\n",
      " 11  viewers_eval           5619 non-null   float64\n",
      " 12  views                  5619 non-null   float64\n",
      " 13  budget                 5619 non-null   float64\n",
      " 14  Temperature Moyenne    5619 non-null   float64\n",
      " 15  Lille                  5619 non-null   float64\n",
      " 16  Bordeaux               5619 non-null   float64\n",
      " 17  Lyon                   5619 non-null   float64\n",
      " 18  Paris                  5619 non-null   float64\n",
      " 19  season                 5619 non-null   object \n",
      " 20  year                   5619 non-null   int64  \n",
      "dtypes: float64(9), int64(3), object(9)\n",
      "memory usage: 922.0+ KB\n"
     ]
    }
   ],
   "source": [
    "df_cleaned.info()"
   ]
  },
  {
   "cell_type": "code",
   "execution_count": 178,
   "metadata": {},
   "outputs": [],
   "source": [
    "from vacances_scolaires_france import SchoolHolidayDates\n",
    "import datetime\n",
    "\n",
    "# Instancier la classe SchoolHolidayDates\n",
    "school_holidays = SchoolHolidayDates()\n",
    "\n",
    "# Fonction pour vérifier si une date est un jour de vacances scolaires\n",
    "def check_holiday(date):\n",
    "    date = date.date()\n",
    "    return school_holidays.is_holiday(date)\n",
    "\n",
    "df_cleaned['release_date'] = pd.to_datetime(df_cleaned['release_date'])\n",
    "# Appliquer la fonction à la colonne \"release_date\" du DataFrame\n",
    "df_cleaned['is_holiday'] = df_cleaned['release_date'].apply(check_holiday)\n"
   ]
  },
  {
   "cell_type": "code",
   "execution_count": 179,
   "metadata": {},
   "outputs": [],
   "source": [
    "df_stars = pd.read_csv('/home/apprenant/DevIA/Popularity_corner/popularity_corner/stars/stars.csv')"
   ]
  },
  {
   "cell_type": "code",
   "execution_count": 180,
   "metadata": {},
   "outputs": [],
   "source": [
    "df_cleaned['cast'] = df_cleaned['cast'].apply(lambda x: [actor.strip() for actor in x.split(',')])\n",
    "df_cleaned['producers'] = df_cleaned['producers'].apply(lambda x: [actor.strip() for actor in x.split(',')])\n",
    "df_cleaned['director'] = df_cleaned['director'].apply(lambda x: [actor.strip() for actor in x.split(',')])\n",
    "df_cleaned['distributor'] = df_cleaned['distributor'].apply(lambda x: [actor.strip() for actor in x.split(',')])"
   ]
  },
  {
   "cell_type": "code",
   "execution_count": 181,
   "metadata": {},
   "outputs": [],
   "source": [
    "stars = df_stars['name'].to_list()"
   ]
  },
  {
   "cell_type": "code",
   "execution_count": 182,
   "metadata": {},
   "outputs": [],
   "source": [
    "def count_stars(cast):\n",
    "    count = 0\n",
    "    for actor in cast:\n",
    "        if actor in stars:\n",
    "            count += 1\n",
    "    return count "
   ]
  },
  {
   "cell_type": "code",
   "execution_count": 183,
   "metadata": {},
   "outputs": [],
   "source": [
    "df_cleaned['proportion_stars_actors'] = (df_cleaned['cast'].apply(count_stars)/df_cleaned['cast'].apply(len)).round(2)\n",
    "df_cleaned['proportion_stars_producers'] = (df_cleaned['producers'].apply(count_stars)/df_cleaned['producers'].apply(len)).round(2)\n",
    "df_cleaned['proportion_stars_director'] = df_cleaned['director'].apply(count_stars)"
   ]
  },
  {
   "cell_type": "code",
   "execution_count": 184,
   "metadata": {},
   "outputs": [],
   "source": [
    "import pandas as pd\n",
    "from collections import Counter\n",
    "\n",
    "# Supposons que votre DataFrame s'appelle df_cleaned et la colonne des distributeurs est 'distributor'\n",
    "\n",
    "# Étape 1 : Utiliser explode pour diviser les distributeurs en des distributeurs individuels\n",
    "df_exploded = df_cleaned.explode('distributor')\n",
    "\n",
    "# Étape 2 : Utiliser value_counts pour compter le nombre d'occurrences de chaque distributeur\n",
    "distributor_counts = df_exploded['distributor'].value_counts()\n",
    "\n",
    "# Étape 3 : Calculer la fréquence des distributeurs \n",
    "distributor_frequency = distributor_counts\n",
    "\n",
    "# Étape 4 : Créer un dictionnaire pour mapper la fréquence à chaque distributeur\n",
    "distributor_freq_dict = distributor_frequency.to_dict()\n",
    "\n",
    "# Étape 5 : Mapper la fréquence à chaque ligne du DataFrame et calculer la moyenne s'il y a plusieurs distributeurs\n",
    "def calculate_avg_frequency(distributors):\n",
    "    if isinstance(distributors, list):\n",
    "        return sum([distributor_freq_dict[d] for d in distributors]) / len(distributors)\n",
    "    else:\n",
    "        return distributor_freq_dict[distributors]\n",
    "\n",
    "df_cleaned['distributor_avg_frequency'] = df_cleaned['distributor'].apply(calculate_avg_frequency)"
   ]
  },
  {
   "cell_type": "code",
   "execution_count": 185,
   "metadata": {},
   "outputs": [],
   "source": [
    "# Convertir toutes les valeurs de la colonne \"genre\" en minuscules et supprimer les espaces en début et en fin\n",
    "df_cleaned['genre'] = df_cleaned['genre'].str.lower().str.strip()\n",
    "\n",
    "# Supprimer les espaces entre les genres\n",
    "df_cleaned['genre'] = df_cleaned['genre'].str.replace(', ', ',')\n",
    "\n",
    "# Encodage du genre\n",
    "genre_encoding = df_cleaned['genre'].str.get_dummies(sep=',')\n",
    "genre_encoding.columns = ['genre_' + col for col in genre_encoding.columns]\n",
    "\n",
    "# Concaténation des DataFrames d'encodage avec le DataFrame principal\n",
    "df_cleaned = pd.concat([df_cleaned, genre_encoding], axis=1)"
   ]
  },
  {
   "cell_type": "code",
   "execution_count": 186,
   "metadata": {},
   "outputs": [
    {
     "data": {
      "text/plain": [
       "Index(['title', 'release_date', 'genre', 'duration', 'director', 'producers',\n",
       "       'cast', 'nationality', 'distributor', 'box_office_first_week',\n",
       "       'press_eval', 'viewers_eval', 'views', 'budget', 'Temperature Moyenne',\n",
       "       'Lille', 'Bordeaux', 'Lyon', 'Paris', 'season', 'year', 'is_holiday',\n",
       "       'proportion_stars_actors', 'proportion_stars_producers',\n",
       "       'proportion_stars_director', 'distributor_avg_frequency',\n",
       "       'genre_action', 'genre_animation', 'genre_arts martiaux',\n",
       "       'genre_aventure', 'genre_biopic', 'genre_bollywood', 'genre_comédie',\n",
       "       'genre_comédie dramatique', 'genre_comédie musicale', 'genre_divers',\n",
       "       'genre_drame', 'genre_epouvante-horreur', 'genre_erotique',\n",
       "       'genre_espionnage', 'genre_expérimental', 'genre_famille',\n",
       "       'genre_fantastique', 'genre_guerre', 'genre_historique',\n",
       "       'genre_judiciaire', 'genre_musical', 'genre_policier', 'genre_péplum',\n",
       "       'genre_romance', 'genre_science fiction', 'genre_sport event',\n",
       "       'genre_thriller', 'genre_western'],\n",
       "      dtype='object')"
      ]
     },
     "execution_count": 186,
     "metadata": {},
     "output_type": "execute_result"
    }
   ],
   "source": [
    "df_cleaned.columns"
   ]
  },
  {
   "cell_type": "code",
   "execution_count": 187,
   "metadata": {},
   "outputs": [],
   "source": [
    "df_model = df_cleaned[['genre','duration','nationality','box_office_first_week','press_eval','viewers_eval','views','budget','Temperature Moyenne','Lille','Bordeaux','Lyon','Paris','season','is_holiday','proportion_stars_actors','proportion_stars_producers','proportion_stars_director','distributor_avg_frequency','genre_action', 'genre_animation', 'genre_arts martiaux',\n",
    "       'genre_aventure', 'genre_biopic', 'genre_bollywood', 'genre_comédie',\n",
    "       'genre_comédie dramatique', 'genre_comédie musicale', 'genre_divers',\n",
    "       'genre_drame', 'genre_epouvante-horreur', 'genre_erotique',\n",
    "       'genre_espionnage', 'genre_expérimental', 'genre_famille',\n",
    "       'genre_fantastique', 'genre_guerre', 'genre_historique',\n",
    "       'genre_judiciaire', 'genre_musical', 'genre_policier', 'genre_péplum',\n",
    "       'genre_romance', 'genre_science fiction', 'genre_sport event',\n",
    "       'genre_thriller', 'genre_western']]"
   ]
  },
  {
   "cell_type": "code",
   "execution_count": 188,
   "metadata": {},
   "outputs": [],
   "source": [
    "df_model.to_csv('df_model.csv')"
   ]
  }
 ],
 "metadata": {
  "kernelspec": {
   "display_name": "scrap-env",
   "language": "python",
   "name": "python3"
  },
  "language_info": {
   "codemirror_mode": {
    "name": "ipython",
    "version": 3
   },
   "file_extension": ".py",
   "mimetype": "text/x-python",
   "name": "python",
   "nbconvert_exporter": "python",
   "pygments_lexer": "ipython3",
   "version": "3.10.9"
  },
  "orig_nbformat": 4
 },
 "nbformat": 4,
 "nbformat_minor": 2
}
