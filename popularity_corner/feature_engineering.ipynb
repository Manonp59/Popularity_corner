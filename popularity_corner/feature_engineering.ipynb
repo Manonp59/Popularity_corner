{
 "cells": [
  {
   "cell_type": "code",
   "execution_count": 40,
   "metadata": {},
   "outputs": [],
   "source": [
    "import pandas as pd \n",
    "\n",
    "df_cleaned = pd.read_csv('df_cleaned.csv')"
   ]
  },
  {
   "cell_type": "code",
   "execution_count": 41,
   "metadata": {},
   "outputs": [
    {
     "name": "stdout",
     "output_type": "stream",
     "text": [
      "<class 'pandas.core.frame.DataFrame'>\n",
      "RangeIndex: 5604 entries, 0 to 5603\n",
      "Data columns (total 21 columns):\n",
      " #   Column                 Non-Null Count  Dtype  \n",
      "---  ------                 --------------  -----  \n",
      " 0   title                  5604 non-null   object \n",
      " 1   release_date           5604 non-null   object \n",
      " 2   genre                  5604 non-null   object \n",
      " 3   duration               5604 non-null   int64  \n",
      " 4   director               5604 non-null   object \n",
      " 5   producers              5604 non-null   object \n",
      " 6   cast                   5604 non-null   object \n",
      " 7   nationality            5604 non-null   object \n",
      " 8   distributor            5604 non-null   object \n",
      " 9   box_office_first_week  5604 non-null   int64  \n",
      " 10  press_eval             5604 non-null   float64\n",
      " 11  viewers_eval           5604 non-null   float64\n",
      " 12  views                  5604 non-null   float64\n",
      " 13  budget                 5604 non-null   float64\n",
      " 14  Temperature Moyenne    5604 non-null   float64\n",
      " 15  Lille                  5604 non-null   float64\n",
      " 16  Bordeaux               5604 non-null   float64\n",
      " 17  Lyon                   5604 non-null   float64\n",
      " 18  Paris                  5604 non-null   float64\n",
      " 19  season                 5604 non-null   object \n",
      " 20  year                   5604 non-null   int64  \n",
      "dtypes: float64(9), int64(3), object(9)\n",
      "memory usage: 919.5+ KB\n"
     ]
    }
   ],
   "source": [
    "df_cleaned.info()"
   ]
  },
  {
   "cell_type": "code",
   "execution_count": 42,
   "metadata": {},
   "outputs": [],
   "source": [
    "from vacances_scolaires_france import SchoolHolidayDates\n",
    "import datetime\n",
    "\n",
    "# Instancier la classe SchoolHolidayDates\n",
    "school_holidays = SchoolHolidayDates()\n",
    "\n",
    "# Fonction pour vérifier si une date est un jour de vacances scolaires\n",
    "def check_holiday(date):\n",
    "    date = date.date()\n",
    "    return school_holidays.is_holiday(date)\n",
    "\n",
    "df_cleaned['release_date'] = pd.to_datetime(df_cleaned['release_date'])\n",
    "# Appliquer la fonction à la colonne \"release_date\" du DataFrame\n",
    "df_cleaned['is_holiday'] = df_cleaned['release_date'].apply(check_holiday)\n"
   ]
  },
  {
   "cell_type": "code",
   "execution_count": null,
   "metadata": {},
   "outputs": [],
   "source": [
    "df_stars = pd.read_csv('/home/apprenant/DevIA/Popularity_corner/popularity_corner/stars/stars.csv')"
   ]
  },
  {
   "cell_type": "code",
   "execution_count": null,
   "metadata": {},
   "outputs": [],
   "source": [
    "df_cleaned['cast'] = df_cleaned['cast'].apply(lambda x: [actor.strip() for actor in x.split(',')])\n",
    "df_cleaned['producers'] = df_cleaned['producers'].apply(lambda x: [actor.strip() for actor in x.split(',')])\n",
    "df_cleaned['director'] = df_cleaned['director'].apply(lambda x: [actor.strip() for actor in x.split(',')])"
   ]
  },
  {
   "cell_type": "code",
   "execution_count": null,
   "metadata": {},
   "outputs": [],
   "source": [
    "stars = df_stars['name'].to_list()"
   ]
  },
  {
   "cell_type": "code",
   "execution_count": null,
   "metadata": {},
   "outputs": [],
   "source": [
    "def count_stars(cast):\n",
    "    count = 0\n",
    "    for actor in cast:\n",
    "        if actor in stars:\n",
    "            count += 1\n",
    "    return count "
   ]
  },
  {
   "cell_type": "code",
   "execution_count": null,
   "metadata": {},
   "outputs": [],
   "source": [
    "df_cleaned['count_stars_actors'] = df_cleaned['cast'].apply(count_stars)\n",
    "df_cleaned['count_stars_producers'] = df_cleaned['producers'].apply(count_stars)\n",
    "df_cleaned['count_stars_director'] = df_cleaned['director'].apply(count_stars)"
   ]
  }
 ],
 "metadata": {
  "kernelspec": {
   "display_name": "scrap-env",
   "language": "python",
   "name": "python3"
  },
  "language_info": {
   "codemirror_mode": {
    "name": "ipython",
    "version": 3
   },
   "file_extension": ".py",
   "mimetype": "text/x-python",
   "name": "python",
   "nbconvert_exporter": "python",
   "pygments_lexer": "ipython3",
   "version": "3.11.2"
  },
  "orig_nbformat": 4
 },
 "nbformat": 4,
 "nbformat_minor": 2
}
