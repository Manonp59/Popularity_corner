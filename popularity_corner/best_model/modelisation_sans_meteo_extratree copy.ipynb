{
 "cells": [
  {
   "cell_type": "code",
   "execution_count": 70,
   "metadata": {},
   "outputs": [],
   "source": [
    "import pandas as pd \n",
    "\n",
    "df = pd.read_csv('df_model_sans_meteo2.csv',index_col=0 )"
   ]
  },
  {
   "cell_type": "code",
   "execution_count": 75,
   "metadata": {},
   "outputs": [],
   "source": [
    "from sklearn.model_selection import train_test_split\n",
    "\n",
    "X = df.drop(['box_office_first_week','is_holiday'],axis=1)\n",
    "y = df['box_office_first_week']\n",
    "X_train,X_test, y_train,y_test = train_test_split(X,y, train_size=0.9,shuffle=True, random_state=42)"
   ]
  },
  {
   "cell_type": "code",
   "execution_count": 72,
   "metadata": {},
   "outputs": [
    {
     "data": {
      "text/plain": [
       "Index(['duration', 'nationality', 'views', 'budget', 'season', 'is_holiday',\n",
       "       'proportion_stars_actors', 'proportion_stars_producers',\n",
       "       'proportion_stars_director', 'distributor_avg_frequency',\n",
       "       'genre_action', 'genre_animation', 'genre_arts martiaux',\n",
       "       'genre_aventure', 'genre_biopic', 'genre_bollywood', 'genre_comédie',\n",
       "       'genre_comédie dramatique', 'genre_comédie musicale', 'genre_divers',\n",
       "       'genre_drame', 'genre_epouvante-horreur', 'genre_erotique',\n",
       "       'genre_espionnage', 'genre_expérimental', 'genre_famille',\n",
       "       'genre_fantastique', 'genre_guerre', 'genre_historique',\n",
       "       'genre_judiciaire', 'genre_musical', 'genre_policier', 'genre_péplum',\n",
       "       'genre_romance', 'genre_science fiction', 'genre_sport event',\n",
       "       'genre_thriller', 'genre_western'],\n",
       "      dtype='object')"
      ]
     },
     "execution_count": 72,
     "metadata": {},
     "output_type": "execute_result"
    }
   ],
   "source": [
    "X.columns"
   ]
  },
  {
   "cell_type": "code",
   "execution_count": 55,
   "metadata": {},
   "outputs": [
    {
     "data": {
      "text/plain": [
       "(5611, 38)"
      ]
     },
     "execution_count": 55,
     "metadata": {},
     "output_type": "execute_result"
    }
   ],
   "source": [
    "X.shape"
   ]
  },
  {
   "cell_type": "code",
   "execution_count": 76,
   "metadata": {},
   "outputs": [],
   "source": [
    "# Importer les bibliothèques nécessaires\n",
    "from sklearn.pipeline import Pipeline\n",
    "from sklearn.preprocessing import StandardScaler, OneHotEncoder\n",
    "from sklearn.compose import ColumnTransformer\n",
    "from sklearn.ensemble import ExtraTreesRegressor\n",
    "from sklearn.metrics import r2_score, mean_squared_error\n",
    "import optuna\n",
    "from optuna.samplers import TPESampler\n",
    "import pandas as pd\n",
    "import numpy as np\n",
    "\n",
    "# Définir les paramètres du préprocesseur\n",
    "numerical_features = ['duration', 'views', 'budget','proportion_stars_actors', 'proportion_stars_producers', 'proportion_stars_director', 'distributor_avg_frequency']\n",
    "categorical_features = ['nationality', 'season']\n",
    "\n",
    "numerical_transformer = StandardScaler()\n",
    "categorical_transformer = OneHotEncoder()\n",
    "\n",
    "preprocessor = ColumnTransformer(\n",
    "    transformers=[\n",
    "        ('num', numerical_transformer, numerical_features),\n",
    "        ('cat', categorical_transformer, categorical_features)\n",
    "    ],\n",
    "    remainder=\"passthrough\"\n",
    ")\n",
    "\n",
    "best_params = {'n_estimators': 100, 'criterion': 'squared_error', 'max_depth': 10, 'min_samples_split': 3, 'min_samples_leaf': 1, 'max_features': None, 'bootstrap': False}\n",
    "# Créer le modèle avec les meilleurs hyperparamètres\n",
    "model = ExtraTreesRegressor(\n",
    "    n_estimators=best_params['n_estimators'],\n",
    "    criterion=best_params['criterion'],\n",
    "    max_depth=best_params['max_depth'],\n",
    "    min_samples_split=best_params['min_samples_split'],\n",
    "    min_samples_leaf=best_params['min_samples_leaf'],\n",
    "    max_features=best_params['max_features'],\n",
    "    bootstrap=best_params['bootstrap'],\n",
    "    random_state=42\n",
    ")\n",
    "\n",
    "pipe = Pipeline([\n",
    "    ('preprocessor',preprocessor),\n",
    "    ('model', model)\n",
    "])\n",
    "\n"
   ]
  },
  {
   "cell_type": "code",
   "execution_count": 77,
   "metadata": {},
   "outputs": [
    {
     "data": {
      "text/plain": [
       "0.7258761146327493"
      ]
     },
     "execution_count": 77,
     "metadata": {},
     "output_type": "execute_result"
    }
   ],
   "source": [
    "pipe.fit(X_train, y_train)\n",
    "pipe.score(X_test,y_test)"
   ]
  },
  {
   "cell_type": "code",
   "execution_count": 59,
   "metadata": {},
   "outputs": [
    {
     "data": {
      "text/html": [
       "<div>\n",
       "<style scoped>\n",
       "    .dataframe tbody tr th:only-of-type {\n",
       "        vertical-align: middle;\n",
       "    }\n",
       "\n",
       "    .dataframe tbody tr th {\n",
       "        vertical-align: top;\n",
       "    }\n",
       "\n",
       "    .dataframe thead th {\n",
       "        text-align: right;\n",
       "    }\n",
       "</style>\n",
       "<table border=\"1\" class=\"dataframe\">\n",
       "  <thead>\n",
       "    <tr style=\"text-align: right;\">\n",
       "      <th></th>\n",
       "      <th>Feature</th>\n",
       "      <th>Importance</th>\n",
       "    </tr>\n",
       "  </thead>\n",
       "  <tbody>\n",
       "    <tr>\n",
       "      <th>2</th>\n",
       "      <td>num__budget</td>\n",
       "      <td>0.337496</td>\n",
       "    </tr>\n",
       "    <tr>\n",
       "      <th>1</th>\n",
       "      <td>num__views</td>\n",
       "      <td>0.145662</td>\n",
       "    </tr>\n",
       "    <tr>\n",
       "      <th>3</th>\n",
       "      <td>num__proportion_stars_actors</td>\n",
       "      <td>0.104293</td>\n",
       "    </tr>\n",
       "    <tr>\n",
       "      <th>0</th>\n",
       "      <td>num__duration</td>\n",
       "      <td>0.056370</td>\n",
       "    </tr>\n",
       "    <tr>\n",
       "      <th>66</th>\n",
       "      <td>cat__nationality_U.S.A.</td>\n",
       "      <td>0.036524</td>\n",
       "    </tr>\n",
       "    <tr>\n",
       "      <th>...</th>\n",
       "      <td>...</td>\n",
       "      <td>...</td>\n",
       "    </tr>\n",
       "    <tr>\n",
       "      <th>81</th>\n",
       "      <td>remainder__genre_bollywood</td>\n",
       "      <td>0.000000</td>\n",
       "    </tr>\n",
       "    <tr>\n",
       "      <th>32</th>\n",
       "      <td>cat__nationality_Géorgie</td>\n",
       "      <td>0.000000</td>\n",
       "    </tr>\n",
       "    <tr>\n",
       "      <th>23</th>\n",
       "      <td>cat__nationality_Croatie</td>\n",
       "      <td>0.000000</td>\n",
       "    </tr>\n",
       "    <tr>\n",
       "      <th>45</th>\n",
       "      <td>cat__nationality_Maroc</td>\n",
       "      <td>0.000000</td>\n",
       "    </tr>\n",
       "    <tr>\n",
       "      <th>24</th>\n",
       "      <td>cat__nationality_Cuba</td>\n",
       "      <td>0.000000</td>\n",
       "    </tr>\n",
       "  </tbody>\n",
       "</table>\n",
       "<p>104 rows × 2 columns</p>\n",
       "</div>"
      ],
      "text/plain": [
       "                         Feature  Importance\n",
       "2                    num__budget    0.337496\n",
       "1                     num__views    0.145662\n",
       "3   num__proportion_stars_actors    0.104293\n",
       "0                  num__duration    0.056370\n",
       "66       cat__nationality_U.S.A.    0.036524\n",
       "..                           ...         ...\n",
       "81    remainder__genre_bollywood    0.000000\n",
       "32      cat__nationality_Géorgie    0.000000\n",
       "23      cat__nationality_Croatie    0.000000\n",
       "45        cat__nationality_Maroc    0.000000\n",
       "24         cat__nationality_Cuba    0.000000\n",
       "\n",
       "[104 rows x 2 columns]"
      ]
     },
     "metadata": {},
     "output_type": "display_data"
    }
   ],
   "source": [
    "feature_importance = pipe.named_steps['model'].feature_importances_\n",
    "\n",
    "all_feature_names = pipe.named_steps['preprocessor'].get_feature_names_out()\n",
    "\n",
    "# Créer un DataFrame pour visualiser la feature importance\n",
    "feature_importance_df = pd.DataFrame({'Feature': all_feature_names, 'Importance': feature_importance})\n",
    "\n",
    "# Trier le DataFrame par ordre décroissant de l'importance\n",
    "feature_importance_df = feature_importance_df.sort_values(by='Importance', ascending=False)\n",
    "\n",
    "# Afficher la feature importance\n",
    "display(feature_importance_df)\n",
    "\n"
   ]
  }
 ],
 "metadata": {
  "kernelspec": {
   "display_name": "machine-learning",
   "language": "python",
   "name": "python3"
  },
  "language_info": {
   "codemirror_mode": {
    "name": "ipython",
    "version": 3
   },
   "file_extension": ".py",
   "mimetype": "text/x-python",
   "name": "python",
   "nbconvert_exporter": "python",
   "pygments_lexer": "ipython3",
   "version": "3.10.9"
  },
  "orig_nbformat": 4
 },
 "nbformat": 4,
 "nbformat_minor": 2
}
