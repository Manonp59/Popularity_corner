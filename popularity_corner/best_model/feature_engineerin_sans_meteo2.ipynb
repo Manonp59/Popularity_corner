{
 "cells": [
  {
   "cell_type": "code",
   "execution_count": 31,
   "metadata": {},
   "outputs": [],
   "source": [
    "import pandas as pd \n",
    "\n",
    "df_cleaned = pd.read_csv('df_cleaned_sans_meteo.csv')"
   ]
  },
  {
   "cell_type": "code",
   "execution_count": 32,
   "metadata": {},
   "outputs": [
    {
     "name": "stdout",
     "output_type": "stream",
     "text": [
      "<class 'pandas.core.frame.DataFrame'>\n",
      "RangeIndex: 7519 entries, 0 to 7518\n",
      "Data columns (total 16 columns):\n",
      " #   Column                 Non-Null Count  Dtype  \n",
      "---  ------                 --------------  -----  \n",
      " 0   title                  7519 non-null   object \n",
      " 1   release_date           7519 non-null   object \n",
      " 2   genre                  7519 non-null   object \n",
      " 3   duration               7519 non-null   int64  \n",
      " 4   director               7519 non-null   object \n",
      " 5   producers              7519 non-null   object \n",
      " 6   cast                   7519 non-null   object \n",
      " 7   nationality            7519 non-null   object \n",
      " 8   distributor            7519 non-null   object \n",
      " 9   box_office_first_week  7519 non-null   int64  \n",
      " 10  press_eval             7519 non-null   float64\n",
      " 11  viewers_eval           7519 non-null   float64\n",
      " 12  views                  7519 non-null   float64\n",
      " 13  budget                 7519 non-null   float64\n",
      " 14  season                 7519 non-null   object \n",
      " 15  year                   7519 non-null   int64  \n",
      "dtypes: float64(4), int64(3), object(9)\n",
      "memory usage: 940.0+ KB\n"
     ]
    }
   ],
   "source": [
    "df_cleaned.info()"
   ]
  },
  {
   "cell_type": "code",
   "execution_count": 33,
   "metadata": {},
   "outputs": [],
   "source": [
    "from vacances_scolaires_france import SchoolHolidayDates\n",
    "import datetime\n",
    "df_cleaned['release_date'] = pd.to_datetime(df_cleaned['release_date'])\n",
    "df_cleaned = df_cleaned[df_cleaned['release_date'].dt.year >= 2010]\n",
    "# Instancier la classe SchoolHolidayDates\n",
    "school_holidays = SchoolHolidayDates()\n",
    "\n",
    "# Fonction pour vérifier si une date est un jour de vacances scolaires\n",
    "def check_holiday(date):\n",
    "    date = date.date()\n",
    "    return school_holidays.is_holiday(date)\n",
    "\n",
    "df_cleaned['release_date'] = pd.to_datetime(df_cleaned['release_date'])\n",
    "# Appliquer la fonction à la colonne \"release_date\" du DataFrame\n",
    "df_cleaned['is_holiday'] = df_cleaned['release_date'].apply(check_holiday)\n"
   ]
  },
  {
   "cell_type": "code",
   "execution_count": 34,
   "metadata": {},
   "outputs": [],
   "source": [
    "df_stars = pd.read_csv('/home/apprenant/DevIA/Popularity_corner/popularity_corner/stars/stars.csv')"
   ]
  },
  {
   "cell_type": "code",
   "execution_count": 35,
   "metadata": {},
   "outputs": [],
   "source": [
    "df_cleaned['cast'] = df_cleaned['cast'].apply(lambda x: [actor.strip() for actor in x.split(',')])\n",
    "df_cleaned['producers'] = df_cleaned['producers'].apply(lambda x: [actor.strip() for actor in x.split(',')])\n",
    "df_cleaned['director'] = df_cleaned['director'].apply(lambda x: [actor.strip() for actor in x.split(',')])\n",
    "df_cleaned['distributor'] = df_cleaned['distributor'].apply(lambda x: [actor.strip() for actor in x.split(',')])"
   ]
  },
  {
   "cell_type": "code",
   "execution_count": 36,
   "metadata": {},
   "outputs": [],
   "source": [
    "stars = df_stars['name'].to_list()"
   ]
  },
  {
   "cell_type": "code",
   "execution_count": 37,
   "metadata": {},
   "outputs": [],
   "source": [
    "def count_stars(cast):\n",
    "    count = 0\n",
    "    for actor in cast:\n",
    "        if actor in stars:\n",
    "            count += 1\n",
    "    return count "
   ]
  },
  {
   "cell_type": "code",
   "execution_count": 38,
   "metadata": {},
   "outputs": [],
   "source": [
    "df_cleaned['stars_actors'] = df_cleaned['cast'].apply(count_stars)\n",
    "df_cleaned['proportion_stars_producers'] = df_cleaned['producers'].apply(count_stars)\n",
    "df_cleaned['proportion_stars_director'] = df_cleaned['director'].apply(count_stars)\n",
    "df_cleaned['stars_producers_director'] = df_cleaned['proportion_stars_producers'] + df_cleaned['proportion_stars_director']"
   ]
  },
  {
   "cell_type": "code",
   "execution_count": 39,
   "metadata": {},
   "outputs": [],
   "source": [
    "import pandas as pd\n",
    "from collections import Counter\n",
    "\n",
    "# Supposons que votre DataFrame s'appelle df_cleaned et la colonne des distributeurs est 'distributor'\n",
    "\n",
    "# Étape 1 : Utiliser explode pour diviser les distributeurs en des distributeurs individuels\n",
    "df_exploded = df_cleaned.explode('distributor')\n",
    "\n",
    "# Étape 2 : Utiliser value_counts pour compter le nombre d'occurrences de chaque distributeur\n",
    "distributor_counts = df_exploded['distributor'].value_counts()\n",
    "\n",
    "# Étape 3 : Calculer la fréquence des distributeurs \n",
    "distributor_frequency = distributor_counts\n",
    "\n",
    "# Étape 4 : Créer un dictionnaire pour mapper la fréquence à chaque distributeur\n",
    "distributor_freq_dict = distributor_frequency.to_dict()\n",
    "\n",
    "# Étape 5 : Mapper la fréquence à chaque ligne du DataFrame et calculer la moyenne s'il y a plusieurs distributeurs\n",
    "def calculate_avg_frequency(distributors):\n",
    "    if isinstance(distributors, list):\n",
    "        return sum([distributor_freq_dict[d] for d in distributors]) / len(distributors)\n",
    "    else:\n",
    "        return distributor_freq_dict[distributors]\n",
    "\n",
    "df_cleaned['distributor_avg_frequency'] = df_cleaned['distributor'].apply(calculate_avg_frequency)"
   ]
  },
  {
   "cell_type": "code",
   "execution_count": 40,
   "metadata": {},
   "outputs": [],
   "source": [
    "# Convertir toutes les valeurs de la colonne \"genre\" en minuscules et supprimer les espaces en début et en fin\n",
    "df_cleaned['genre'] = df_cleaned['genre'].str.lower().str.strip()\n",
    "\n",
    "# Supprimer les espaces entre les genres\n",
    "df_cleaned['genre'] = df_cleaned['genre'].str.replace(', ', ',')\n",
    "\n",
    "# Encodage du genre\n",
    "genre_encoding = df_cleaned['genre'].str.get_dummies(sep=',')\n",
    "genre_encoding.columns = ['genre_' + col for col in genre_encoding.columns]\n",
    "\n",
    "# Concaténation des DataFrames d'encodage avec le DataFrame principal\n",
    "df_cleaned = pd.concat([df_cleaned, genre_encoding], axis=1)"
   ]
  },
  {
   "cell_type": "code",
   "execution_count": 41,
   "metadata": {},
   "outputs": [
    {
     "data": {
      "text/plain": [
       "Index(['title', 'release_date', 'genre', 'duration', 'director', 'producers',\n",
       "       'cast', 'nationality', 'distributor', 'box_office_first_week',\n",
       "       'press_eval', 'viewers_eval', 'views', 'budget', 'season', 'year',\n",
       "       'is_holiday', 'stars_actors', 'proportion_stars_producers',\n",
       "       'proportion_stars_director', 'stars_producers_director',\n",
       "       'distributor_avg_frequency', 'genre_action', 'genre_animation',\n",
       "       'genre_arts martiaux', 'genre_aventure', 'genre_biopic',\n",
       "       'genre_bollywood', 'genre_comédie', 'genre_comédie dramatique',\n",
       "       'genre_comédie musicale', 'genre_divers', 'genre_drame',\n",
       "       'genre_epouvante-horreur', 'genre_erotique', 'genre_espionnage',\n",
       "       'genre_expérimental', 'genre_famille', 'genre_fantastique',\n",
       "       'genre_guerre', 'genre_historique', 'genre_judiciaire', 'genre_musical',\n",
       "       'genre_policier', 'genre_péplum', 'genre_romance',\n",
       "       'genre_science fiction', 'genre_sport event', 'genre_thriller',\n",
       "       'genre_western'],\n",
       "      dtype='object')"
      ]
     },
     "execution_count": 41,
     "metadata": {},
     "output_type": "execute_result"
    }
   ],
   "source": [
    "df_cleaned.columns"
   ]
  },
  {
   "cell_type": "code",
   "execution_count": 42,
   "metadata": {},
   "outputs": [
    {
     "name": "stdout",
     "output_type": "stream",
     "text": [
      "<class 'pandas.core.frame.DataFrame'>\n",
      "Int64Index: 5611 entries, 0 to 7518\n",
      "Data columns (total 50 columns):\n",
      " #   Column                      Non-Null Count  Dtype         \n",
      "---  ------                      --------------  -----         \n",
      " 0   title                       5611 non-null   object        \n",
      " 1   release_date                5611 non-null   datetime64[ns]\n",
      " 2   genre                       5611 non-null   object        \n",
      " 3   duration                    5611 non-null   int64         \n",
      " 4   director                    5611 non-null   object        \n",
      " 5   producers                   5611 non-null   object        \n",
      " 6   cast                        5611 non-null   object        \n",
      " 7   nationality                 5611 non-null   object        \n",
      " 8   distributor                 5611 non-null   object        \n",
      " 9   box_office_first_week       5611 non-null   int64         \n",
      " 10  press_eval                  5611 non-null   float64       \n",
      " 11  viewers_eval                5611 non-null   float64       \n",
      " 12  views                       5611 non-null   float64       \n",
      " 13  budget                      5611 non-null   float64       \n",
      " 14  season                      5611 non-null   object        \n",
      " 15  year                        5611 non-null   int64         \n",
      " 16  is_holiday                  5611 non-null   bool          \n",
      " 17  stars_actors                5611 non-null   int64         \n",
      " 18  proportion_stars_producers  5611 non-null   int64         \n",
      " 19  proportion_stars_director   5611 non-null   int64         \n",
      " 20  stars_producers_director    5611 non-null   int64         \n",
      " 21  distributor_avg_frequency   5611 non-null   float64       \n",
      " 22  genre_action                5611 non-null   int64         \n",
      " 23  genre_animation             5611 non-null   int64         \n",
      " 24  genre_arts martiaux         5611 non-null   int64         \n",
      " 25  genre_aventure              5611 non-null   int64         \n",
      " 26  genre_biopic                5611 non-null   int64         \n",
      " 27  genre_bollywood             5611 non-null   int64         \n",
      " 28  genre_comédie               5611 non-null   int64         \n",
      " 29  genre_comédie dramatique    5611 non-null   int64         \n",
      " 30  genre_comédie musicale      5611 non-null   int64         \n",
      " 31  genre_divers                5611 non-null   int64         \n",
      " 32  genre_drame                 5611 non-null   int64         \n",
      " 33  genre_epouvante-horreur     5611 non-null   int64         \n",
      " 34  genre_erotique              5611 non-null   int64         \n",
      " 35  genre_espionnage            5611 non-null   int64         \n",
      " 36  genre_expérimental          5611 non-null   int64         \n",
      " 37  genre_famille               5611 non-null   int64         \n",
      " 38  genre_fantastique           5611 non-null   int64         \n",
      " 39  genre_guerre                5611 non-null   int64         \n",
      " 40  genre_historique            5611 non-null   int64         \n",
      " 41  genre_judiciaire            5611 non-null   int64         \n",
      " 42  genre_musical               5611 non-null   int64         \n",
      " 43  genre_policier              5611 non-null   int64         \n",
      " 44  genre_péplum                5611 non-null   int64         \n",
      " 45  genre_romance               5611 non-null   int64         \n",
      " 46  genre_science fiction       5611 non-null   int64         \n",
      " 47  genre_sport event           5611 non-null   int64         \n",
      " 48  genre_thriller              5611 non-null   int64         \n",
      " 49  genre_western               5611 non-null   int64         \n",
      "dtypes: bool(1), datetime64[ns](1), float64(5), int64(35), object(8)\n",
      "memory usage: 2.1+ MB\n"
     ]
    }
   ],
   "source": [
    "df_cleaned.info()"
   ]
  },
  {
   "cell_type": "code",
   "execution_count": 43,
   "metadata": {},
   "outputs": [],
   "source": [
    "df_model = df_cleaned[['duration','nationality','box_office_first_week','views','budget','season','stars_actors','stars_producers_director','distributor_avg_frequency','genre_action', 'genre_animation', 'genre_arts martiaux',\n",
    "       'genre_aventure', 'genre_biopic', 'genre_bollywood', 'genre_comédie',\n",
    "       'genre_comédie dramatique', 'genre_comédie musicale', 'genre_divers',\n",
    "       'genre_drame', 'genre_epouvante-horreur', 'genre_erotique',\n",
    "       'genre_espionnage', 'genre_expérimental', 'genre_famille',\n",
    "       'genre_fantastique', 'genre_guerre', 'genre_historique',\n",
    "       'genre_judiciaire', 'genre_musical', 'genre_policier', 'genre_péplum',\n",
    "       'genre_romance', 'genre_science fiction', 'genre_sport event',\n",
    "       'genre_thriller', 'genre_western']]"
   ]
  },
  {
   "cell_type": "code",
   "execution_count": 44,
   "metadata": {},
   "outputs": [],
   "source": [
    "df_model.to_csv('df_model_sans_meteo2.csv')"
   ]
  }
 ],
 "metadata": {
  "kernelspec": {
   "display_name": "scrap-env",
   "language": "python",
   "name": "python3"
  },
  "language_info": {
   "codemirror_mode": {
    "name": "ipython",
    "version": 3
   },
   "file_extension": ".py",
   "mimetype": "text/x-python",
   "name": "python",
   "nbconvert_exporter": "python",
   "pygments_lexer": "ipython3",
   "version": "3.10.9"
  },
  "orig_nbformat": 4
 },
 "nbformat": 4,
 "nbformat_minor": 2
}
