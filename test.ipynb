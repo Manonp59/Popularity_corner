{
 "cells": [
  {
   "cell_type": "code",
   "execution_count": 23,
   "metadata": {},
   "outputs": [],
   "source": [
    "import pandas as pd\n",
    "\n",
    "df = pd.read_csv('next_week.csv')"
   ]
  },
  {
   "cell_type": "code",
   "execution_count": 41,
   "metadata": {},
   "outputs": [
    {
     "name": "stdout",
     "output_type": "stream",
     "text": [
      "<class 'pandas.core.frame.DataFrame'>\n",
      "Int64Index: 12 entries, 0 to 13\n",
      "Data columns (total 9 columns):\n",
      " #   Column        Non-Null Count  Dtype  \n",
      "---  ------        --------------  -----  \n",
      " 0   cast          12 non-null     object \n",
      " 1   director      12 non-null     object \n",
      " 2   distributor   12 non-null     object \n",
      " 3   duration      12 non-null     object \n",
      " 4   genres        12 non-null     object \n",
      " 5   nationality   12 non-null     object \n",
      " 6   release_date  12 non-null     object \n",
      " 7   title         12 non-null     object \n",
      " 8   views         12 non-null     float64\n",
      "dtypes: float64(1), object(8)\n",
      "memory usage: 960.0+ bytes\n"
     ]
    }
   ],
   "source": [
    "df.info()"
   ]
  },
  {
   "cell_type": "code",
   "execution_count": 40,
   "metadata": {},
   "outputs": [],
   "source": [
    "df = df.dropna()"
   ]
  },
  {
   "cell_type": "code",
   "execution_count": 49,
   "metadata": {},
   "outputs": [
    {
     "name": "stdout",
     "output_type": "stream",
     "text": [
      "{\n",
      "    \"director\": \"John Doe\",\n",
      "    \"distributor\": \"ABC Distributors\",\n",
      "    \"duration\": \"120 min\",\n",
      "    \"cast\": \"Actor1, Actor2\",\n",
      "    \"nationality\": \"USA\",\n",
      "    \"release_date\": \"2023-07-31\",\n",
      "    \"title\": \"My Movie\",\n",
      "    \"views\": 1000,\n",
      "    \"genre_Action\": 1,\n",
      "    \"genre_Animation\": 0,\n",
      "    \"genre_Arts martiaux\": 0,\n",
      "    \"genre_Aventure\": 0,\n",
      "    \"genre_Biopic\": 0,\n",
      "    \"genre_Bollywood\": 0,\n",
      "    \"genre_Com\\u00e9die\": 0,\n",
      "    \"genre_Com\\u00e9die dramatique\": 0,\n",
      "    \"genre_Com\\u00e9die musicale\": 0,\n",
      "    \"genre_Divers\": 0,\n",
      "    \"genre_Drame\": 0,\n",
      "    \"genre_Epouvante-horreur\": 0,\n",
      "    \"genre_Erotique\": 0,\n",
      "    \"genre_Espionnage\": 0,\n",
      "    \"genre_Exp\\u00e9rimental\": 0,\n",
      "    \"genre_Famille\": 0,\n",
      "    \"genre_Fantastique\": 0,\n",
      "    \"genre_Guerre\": 0,\n",
      "    \"genre_Historique\": 0,\n",
      "    \"genre_Judiciaire\": 0,\n",
      "    \"genre_Musical\": 0,\n",
      "    \"genre_Policier\": 0,\n",
      "    \"genre_P\\u00e9plum\": 0,\n",
      "    \"genre_Romance\": 0,\n",
      "    \"genre_Science fiction\": 0,\n",
      "    \"genre_Sport event\": 0,\n",
      "    \"genre_Thriller\": 0,\n",
      "    \"genre_Western\": 0\n",
      "}\n"
     ]
    }
   ],
   "source": [
    "import requests \n",
    "from dotenv import load_dotenv\n",
    "import os\n",
    "\n",
    "load_dotenv()\n",
    "\n",
    "api_key = os.getenv('API_KEY_BUDGET')\n",
    "\n",
    "def get_id(name, api_key):\n",
    "    base_url = 'https://api.themoviedb.org/3/search/movie'\n",
    "    url = f'{base_url}?api_key={api_key}&query={name}'\n",
    "    response = requests.get(url)\n",
    "    if response.status_code == 200:\n",
    "        search_results = response.json()\n",
    "        if search_results['total_results'] > 0:\n",
    "            # Prendre le premier résultat de la liste (vous pouvez afficher tous les résultats si nécessaire)\n",
    "            first_result = search_results['results'][0]\n",
    "            movie_id = first_result['id']\n",
    "            return movie_id\n",
    "        else:\n",
    "            return f\"Aucun résultat trouvé pour '{name}'.\"\n",
    "    else:\n",
    "        return \"Erreur lors de la requête API 1 .\"\n",
    "\n",
    "def get_budget(movie_id, api_key):\n",
    "    base_url = 'https://api.themoviedb.org/3/movie/'\n",
    "    url = f'{base_url}{movie_id}?api_key={api_key}'\n",
    "\n",
    "    # Effectuer la requête\n",
    "    response = requests.get(url)\n",
    "\n",
    "    # Analyser la réponse JSON\n",
    "    if response.status_code == 200:\n",
    "        movie_data = response.json()\n",
    "        budget = movie_data.get('budget')\n",
    "        return budget\n",
    "    else:\n",
    "        return \"Erreur lors de la requête API 2.\"\n",
    "\n",
    "\n",
    "\n"
   ]
  }
 ],
 "metadata": {
  "kernelspec": {
   "display_name": "machine-learning",
   "language": "python",
   "name": "python3"
  },
  "language_info": {
   "codemirror_mode": {
    "name": "ipython",
    "version": 3
   },
   "file_extension": ".py",
   "mimetype": "text/x-python",
   "name": "python",
   "nbconvert_exporter": "python",
   "pygments_lexer": "ipython3",
   "version": "3.10.9"
  },
  "orig_nbformat": 4
 },
 "nbformat": 4,
 "nbformat_minor": 2
}
